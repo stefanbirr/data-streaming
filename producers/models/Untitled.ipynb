{
 "cells": [
  {
   "cell_type": "code",
   "execution_count": 4,
   "metadata": {
    "editable": true
   },
   "outputs": [],
   "source": [
    "import requests\n",
    "import json\n",
    "from pathlib import Path"
   ]
  },
  {
   "cell_type": "code",
   "execution_count": 11,
   "metadata": {
    "editable": true
   },
   "outputs": [],
   "source": [
    "rest_proxy_url = \"http://localhost:8082\""
   ]
  },
  {
   "cell_type": "code",
   "execution_count": 20,
   "metadata": {
    "editable": true
   },
   "outputs": [],
   "source": [
    "with open(f\"schemas/weather_value.json\") as f:\n",
    "                value_schema = json.load(f)\n",
    "        \n",
    "with open(f\"schemas/weather_key.json\") as f:\n",
    "                key_schema = json.load(f)"
   ]
  },
  {
   "cell_type": "code",
   "execution_count": 24,
   "metadata": {
    "editable": true
   },
   "outputs": [
    {
     "data": {
      "text/plain": [
       "'{\"type\": \"record\", \"name\": \"weather.value\", \"namespace\": \"com.udacity\", \"fields\": [{\"name\": \"temperature\", \"type\": \"float\"}, {\"name\": \"status\", \"type\": \"string\"}]}'"
      ]
     },
     "execution_count": 24,
     "metadata": {},
     "output_type": "execute_result"
    }
   ],
   "source": [
    "json.dumps(value_schema)"
   ]
  },
  {
   "cell_type": "code",
   "execution_count": 25,
   "metadata": {
    "editable": true
   },
   "outputs": [],
   "source": [
    "data = {\"key_schema\": json.dumps(key_schema),\n",
    "        \"value_schema\": json.dumps(value_schema),\n",
    "        \"records\": [{\"value\": {\"temperature\": 10.0 ,\"status\": \"sunny\"},\n",
    "                     \"key\": {\"timestamp\": 123124234234}\n",
    "                     \n",
    "                    }]\n",
    "       }"
   ]
  },
  {
   "cell_type": "code",
   "execution_count": 26,
   "metadata": {
    "editable": true
   },
   "outputs": [],
   "source": [
    "resp = requests.post(f\"{rest_proxy_url}/topics/com.udacity.weather\",\n",
    "                    headers={\"Content-Type\": \"application/vnd.kafka.avro.v2+json\"},\n",
    "                    data=json.dumps(data),\n",
    "                            )"
   ]
  },
  {
   "cell_type": "code",
   "execution_count": 27,
   "metadata": {
    "editable": true
   },
   "outputs": [
    {
     "data": {
      "text/plain": [
       "{'offsets': [{'partition': 0, 'offset': 0, 'error_code': None, 'error': None}],\n",
       " 'key_schema_id': 3,\n",
       " 'value_schema_id': 4}"
      ]
     },
     "execution_count": 27,
     "metadata": {},
     "output_type": "execute_result"
    }
   ],
   "source": [
    "resp.json()"
   ]
  },
  {
   "cell_type": "code",
   "execution_count": 28,
   "metadata": {
    "editable": true
   },
   "outputs": [
    {
     "data": {
      "text/plain": [
       "<Response [200]>"
      ]
     },
     "execution_count": 28,
     "metadata": {},
     "output_type": "execute_result"
    }
   ],
   "source": [
    "resp"
   ]
  },
  {
   "cell_type": "code",
   "execution_count": 15,
   "metadata": {
    "editable": true
   },
   "outputs": [
    {
     "data": {
      "text/plain": [
       "{'records': [{'value': {'temperature': 10.0, 'status': 'sunny'},\n",
       "   'value_schema': \"{'type': 'record', 'name': 'weather.value', 'namespace': 'com.udacity', 'fields': [{'name': 'temperature', 'type': 'float'}, {'name': 'status', 'type': 'string'}]}\"}]}"
      ]
     },
     "execution_count": 15,
     "metadata": {},
     "output_type": "execute_result"
    }
   ],
   "source": [
    "data"
   ]
  },
  {
   "cell_type": "code",
   "execution_count": null,
   "metadata": {
    "editable": true
   },
   "outputs": [],
   "source": []
  }
 ],
 "metadata": {
  "kernelspec": {
   "display_name": "Python 3",
   "language": "python",
   "name": "python3"
  },
  "language_info": {
   "codemirror_mode": {
    "name": "ipython",
    "version": 3
   },
   "file_extension": ".py",
   "mimetype": "text/x-python",
   "name": "python",
   "nbconvert_exporter": "python",
   "pygments_lexer": "ipython3",
   "version": "3.7.3"
  }
 },
 "nbformat": 4,
 "nbformat_minor": 4
}
